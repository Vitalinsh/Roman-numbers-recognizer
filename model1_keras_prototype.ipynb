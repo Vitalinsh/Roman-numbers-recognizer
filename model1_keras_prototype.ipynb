{
 "cells": [
  {
   "cell_type": "code",
   "execution_count": 1,
   "metadata": {},
   "outputs": [
    {
     "name": "stderr",
     "output_type": "stream",
     "text": [
      "Using TensorFlow backend.\n"
     ]
    },
    {
     "data": {
      "text/plain": [
       "['/job:localhost/replica:0/task:0/device:GPU:0']"
      ]
     },
     "execution_count": 1,
     "metadata": {},
     "output_type": "execute_result"
    }
   ],
   "source": [
    "import os\n",
    "import time\n",
    "import math\n",
    "\n",
    "from sklearn.preprocessing import MultiLabelBinarizer\n",
    "import numpy as np\n",
    "from keras.datasets import mnist\n",
    "from keras.models import Sequential\n",
    "from keras.layers import Dense, Flatten, Dropout, Conv2D, MaxPooling2D\n",
    "from keras.optimizers import adam\n",
    "from keras.utils import np_utils\n",
    "from keras.callbacks import TensorBoard\n",
    "import matplotlib.pyplot as plt\n",
    "from keras import backend as K\n",
    "\n",
    "from utils import load_data_to_mem, augmentation\n",
    "\n",
    "K.tensorflow_backend._get_available_gpus()"
   ]
  },
  {
   "cell_type": "code",
   "execution_count": 2,
   "metadata": {},
   "outputs": [],
   "source": [
    "train_path = os.path.join(\".\", \"data\", \"train\")\n",
    "valid_path = os.path.join(\".\", \"data\", \"val\")\n",
    "test_path = os.path.join(\".\", \"data\", \"test\")\n",
    "\n",
    "classes = [\"I\", \"II\", \"III\", \"IV\", \"V\", \"VI\", \"VII\", \"VIII\"]\n",
    "class_mapping = {\"I\": 0, \"II\": 1, \"III\": 2, \"IV\": 3,\n",
    "                 \"V\": 4, \"VI\": 5, \"VII\": 6, \"VIII\":7}\n",
    "img_rows, img_cols = 64, 64\n",
    "\n",
    "def class_to_number(n):\n",
    "    return class_mapping[n]\n",
    "\n",
    "X_train, y_train = load_data_to_mem(train_path, classes, \n",
    "                                    img_height=img_rows, img_width=img_cols)\n",
    "X_valid, y_valid = load_data_to_mem(valid_path, classes,\n",
    "                                    img_height=img_rows, img_width=img_cols)\n",
    "X_test, y_test = load_data_to_mem(test_path, classes,\n",
    "                                  img_height=img_rows, img_width=img_cols)\n",
    "\n",
    "X_train, y_train = augmentation(X_train, y_train, n_transform=30)\n",
    "# test more data\n",
    "#X_train, y_train = augmentation(X_train + X_test, y_train + y_test)"
   ]
  },
  {
   "cell_type": "code",
   "execution_count": 3,
   "metadata": {},
   "outputs": [],
   "source": [
    "X_train = np.array(X_train, dtype=np.float32) / 255\n",
    "X_valid = np.array(X_valid, dtype=np.float32) / 255\n",
    "X_test = np.array(X_test, dtype=np.float32) / 255\n",
    "y_train = np.array(y_train)\n",
    "y_valid = np.array(y_valid)\n",
    "y_test = np.array(y_test)\n",
    "\n",
    "# expand dimensions for CNN\n",
    "X_train = np.expand_dims(X_train, axis=3)\n",
    "X_valid = np.expand_dims(X_valid, axis=3)\n",
    "X_test = np.expand_dims(X_test, axis=3)\n",
    "\n",
    "# expand dimensions for MultiLabelBinarizer\n",
    "y_train = np.expand_dims(y_train, axis=1)\n",
    "y_valid = np.expand_dims(y_valid, axis=1)\n",
    "y_test = np.expand_dims(y_test, axis=1)\n",
    "\n",
    "mlb = MultiLabelBinarizer()\n",
    "mlb.fit(y_train)\n",
    "Y_train = mlb.transform(y_train)\n",
    "Y_valid = mlb.transform(y_valid)\n",
    "Y_test = mlb.transform(y_test)\n"
   ]
  },
  {
   "cell_type": "code",
   "execution_count": 4,
   "metadata": {},
   "outputs": [
    {
     "name": "stdout",
     "output_type": "stream",
     "text": [
      "Check shapes: \n",
      "X_train = (30690, 64, 64, 1)  Y_train = (30690, 8)\n",
      "X_valid = (328, 64, 64, 1)  Y_valid = (328, 8)\n",
      "X_test = (338, 64, 64, 1)  Y_test = (338, 8)\n"
     ]
    }
   ],
   "source": [
    "print(\"Check shapes: \")\n",
    "print(\"X_train =\", X_train.shape, \" Y_train =\", Y_train.shape)\n",
    "print(\"X_valid =\", X_valid.shape, \" Y_valid =\", Y_valid.shape)\n",
    "print(\"X_test =\", X_test.shape, \" Y_test =\", Y_test.shape)\n"
   ]
  },
  {
   "cell_type": "code",
   "execution_count": 9,
   "metadata": {
    "scrolled": true
   },
   "outputs": [
    {
     "name": "stdout",
     "output_type": "stream",
     "text": [
      "_________________________________________________________________\n",
      "Layer (type)                 Output Shape              Param #   \n",
      "=================================================================\n",
      "conv2d_8 (Conv2D)            (None, 62, 62, 32)        320       \n",
      "_________________________________________________________________\n",
      "max_pooling2d_7 (MaxPooling2 (None, 31, 31, 32)        0         \n",
      "_________________________________________________________________\n",
      "dropout_9 (Dropout)          (None, 31, 31, 32)        0         \n",
      "_________________________________________________________________\n",
      "conv2d_9 (Conv2D)            (None, 29, 29, 64)        18496     \n",
      "_________________________________________________________________\n",
      "max_pooling2d_8 (MaxPooling2 (None, 14, 14, 64)        0         \n",
      "_________________________________________________________________\n",
      "dropout_10 (Dropout)         (None, 14, 14, 64)        0         \n",
      "_________________________________________________________________\n",
      "conv2d_10 (Conv2D)           (None, 12, 12, 128)       73856     \n",
      "_________________________________________________________________\n",
      "max_pooling2d_9 (MaxPooling2 (None, 6, 6, 128)         0         \n",
      "_________________________________________________________________\n",
      "dropout_11 (Dropout)         (None, 6, 6, 128)         0         \n",
      "_________________________________________________________________\n",
      "flatten_3 (Flatten)          (None, 4608)              0         \n",
      "_________________________________________________________________\n",
      "dropout_12 (Dropout)         (None, 4608)              0         \n",
      "_________________________________________________________________\n",
      "dense_5 (Dense)              (None, 8)                 36872     \n",
      "=================================================================\n",
      "Total params: 129,544\n",
      "Trainable params: 129,544\n",
      "Non-trainable params: 0\n",
      "_________________________________________________________________\n"
     ]
    }
   ],
   "source": [
    "model = Sequential()\n",
    "\n",
    "model.add(Conv2D(32, kernel_size=(3, 3), activation=\"relu\",\n",
    "                 input_shape=(img_rows, img_cols, 1)))\n",
    "# model.add(Conv2D(32, kernel_size=(5, 5), activation=\"relu\"))\n",
    "#model.add(Conv2D(32, kernel_size=(5, 5), activation=\"relu\"))\n",
    "model.add(MaxPooling2D(pool_size=(2, 2)))\n",
    "model.add(Dropout(0.2))\n",
    "\n",
    "model.add(Conv2D(64, kernel_size=(3, 3), activation=\"relu\"))\n",
    "#model.add(Conv2D(64, kernel_size=(5, 5), activation=\"relu\"))\n",
    "model.add(MaxPooling2D(pool_size=(2, 2)))\n",
    "model.add(Dropout(0.2))\n",
    "\n",
    "model.add(Conv2D(128, kernel_size=(3, 3), activation=\"relu\"))\n",
    "#model.add(Conv2D(128, kernel_size=(5, 5), activation=\"relu\"))\n",
    "model.add(MaxPooling2D(pool_size=(2, 2)))\n",
    "model.add(Dropout(0.2))\n",
    "\n",
    "model.add(Flatten())\n",
    "#model.add(Dense(512, activation=\"relu\"))\n",
    "model.add(Dropout(0.5))\n",
    "\n",
    "model.add(Dense(8, activation=\"softmax\"))\n",
    "\n",
    "model.compile(loss=\"categorical_crossentropy\", \n",
    "              optimizer=\"adam\",\n",
    "             metrics=[\"accuracy\"])\n",
    "\n",
    "# callbacks = [TensorBoard(log_dir=\"tb_logs\", histogram_freq=1, write_images=True)]\n",
    "\n",
    "model.summary()"
   ]
  },
  {
   "cell_type": "code",
   "execution_count": 14,
   "metadata": {
    "scrolled": true
   },
   "outputs": [
    {
     "name": "stdout",
     "output_type": "stream",
     "text": [
      "Train on 30690 samples, validate on 328 samples\n",
      "Epoch 1/5\n",
      " - 67s - loss: 0.6971 - acc: 0.7545 - val_loss: 0.6464 - val_acc: 0.7835\n",
      "Epoch 2/5\n",
      " - 72s - loss: 0.6961 - acc: 0.7588 - val_loss: 0.6369 - val_acc: 0.7683\n",
      "Epoch 3/5\n",
      " - 67s - loss: 0.6718 - acc: 0.7682 - val_loss: 0.6573 - val_acc: 0.7866\n",
      "Epoch 4/5\n",
      " - 64s - loss: 0.6645 - acc: 0.7703 - val_loss: 0.6180 - val_acc: 0.7988\n",
      "Epoch 5/5\n",
      " - 65s - loss: 0.6488 - acc: 0.7749 - val_loss: 0.6424 - val_acc: 0.7896\n",
      "Total training time = 335.2411665916443\n"
     ]
    }
   ],
   "source": [
    "start_time = time.time()\n",
    "history = model.fit(X_train, Y_train,\n",
    "                   batch_size=64,\n",
    "                   epochs=5,\n",
    "                   validation_data=(X_valid, Y_valid),\n",
    "                   verbose=2)\n",
    "\n",
    "train_time = time.time() - start_time\n",
    "print(\"Total training time =\", train_time)\n"
   ]
  },
  {
   "cell_type": "code",
   "execution_count": 15,
   "metadata": {},
   "outputs": [
    {
     "name": "stdout",
     "output_type": "stream",
     "text": [
      "338/338 [==============================] - 0s 1ms/step\n",
      "[0.6733211345926544, 0.7603550306438694]\n",
      "Test data accuracy = 0.7603550306438694\n"
     ]
    }
   ],
   "source": [
    "scores = model.evaluate(X_test, Y_test)\n",
    "print(scores)\n",
    "print(\"Test data accuracy =\", scores[1])\n"
   ]
  },
  {
   "cell_type": "code",
   "execution_count": 12,
   "metadata": {},
   "outputs": [],
   "source": [
    "model.save_weights(\"logs/model3_weights.hdf5\")\n",
    "saved_model = model.to_json()\n",
    "with open(\"logs/model3_architecture.json\", \"w\") as json_file:\n",
    "    json_file.write(saved_model)"
   ]
  },
  {
   "cell_type": "code",
   "execution_count": null,
   "metadata": {},
   "outputs": [],
   "source": []
  }
 ],
 "metadata": {
  "kernelspec": {
   "display_name": "TensorFlow-GPU",
   "language": "python",
   "name": "tf-gpu"
  },
  "language_info": {
   "codemirror_mode": {
    "name": "ipython",
    "version": 3
   },
   "file_extension": ".py",
   "mimetype": "text/x-python",
   "name": "python",
   "nbconvert_exporter": "python",
   "pygments_lexer": "ipython3",
   "version": "3.6.8"
  }
 },
 "nbformat": 4,
 "nbformat_minor": 2
}
